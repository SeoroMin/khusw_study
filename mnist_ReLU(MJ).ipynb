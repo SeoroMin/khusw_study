{
  "nbformat": 4,
  "nbformat_minor": 0,
  "metadata": {
    "colab": {
      "name": "mnist_ReLU.ipynb",
      "provenance": []
    },
    "kernelspec": {
      "name": "python3",
      "display_name": "Python 3"
    }
  },
  "cells": [
    {
      "cell_type": "code",
      "metadata": {
        "id": "9sq_kcBoZiNG",
        "colab_type": "code",
        "outputId": "e367ea3f-062d-4d0a-f43d-7166c9233499",
        "colab": {
          "base_uri": "https://localhost:8080/",
          "height": 63
        }
      },
      "source": [
        "from tensorflow.examples.tutorials.mnist import input_data\n",
        "import tensorflow as tf\n",
        "tf.set_random_seed(777) ## 난수 생성 일정하게 함\n",
        "import random\n",
        "import numpy as np\n",
        "import matplotlib.pyplot as plt"
      ],
      "execution_count": 1,
      "outputs": [
        {
          "output_type": "display_data",
          "data": {
            "text/html": [
              "<p style=\"color: red;\">\n",
              "The default version of TensorFlow in Colab will soon switch to TensorFlow 2.x.<br>\n",
              "We recommend you <a href=\"https://www.tensorflow.org/guide/migrate\" target=\"_blank\">upgrade</a> now \n",
              "or ensure your notebook will continue to use TensorFlow 1.x via the <code>%tensorflow_version 1.x</code> magic:\n",
              "<a href=\"https://colab.research.google.com/notebooks/tensorflow_version.ipynb\" target=\"_blank\">more info</a>.</p>\n"
            ],
            "text/plain": [
              "<IPython.core.display.HTML object>"
            ]
          },
          "metadata": {
            "tags": []
          }
        }
      ]
    },
    {
      "cell_type": "code",
      "metadata": {
        "id": "DzRR1OeQb1_i",
        "colab_type": "code",
        "colab": {
          "base_uri": "https://localhost:8080/",
          "height": 547
        },
        "outputId": "e6aba431-1031-47da-eeb7-da2a04387fcb"
      },
      "source": [
        "##########데이터 로드\n",
        "# 서버로부터 MNIST 데이터를 가져옴\n",
        "mnist = input_data.read_data_sets('MNIST_data/', one_hot=True) # one_hot : 벡터 표현이 가능하게 함\n",
        "\n",
        "# 784 = 28*28 (데이터 28*28 행렬로 있기 때문)\n",
        "X = tf.placeholder(tf.float32, [None, 784]) ## (데이터 타입(32비트), 입력 데이터 형태)\n",
        "# 값, 0 - 9 digits recognition = 10 classes\n",
        "Y = tf.placeholder(tf.float32, [None, 10])"
      ],
      "execution_count": 2,
      "outputs": [
        {
          "output_type": "stream",
          "text": [
            "WARNING:tensorflow:From <ipython-input-2-face8e98e759>:1: read_data_sets (from tensorflow.contrib.learn.python.learn.datasets.mnist) is deprecated and will be removed in a future version.\n",
            "Instructions for updating:\n",
            "Please use alternatives such as official/mnist/dataset.py from tensorflow/models.\n",
            "WARNING:tensorflow:From /usr/local/lib/python3.6/dist-packages/tensorflow_core/contrib/learn/python/learn/datasets/mnist.py:260: maybe_download (from tensorflow.contrib.learn.python.learn.datasets.base) is deprecated and will be removed in a future version.\n",
            "Instructions for updating:\n",
            "Please write your own downloading logic.\n",
            "WARNING:tensorflow:From /usr/local/lib/python3.6/dist-packages/tensorflow_core/contrib/learn/python/learn/datasets/base.py:252: _internal_retry.<locals>.wrap.<locals>.wrapped_fn (from tensorflow.contrib.learn.python.learn.datasets.base) is deprecated and will be removed in a future version.\n",
            "Instructions for updating:\n",
            "Please use urllib or similar directly.\n",
            "Successfully downloaded train-images-idx3-ubyte.gz 9912422 bytes.\n",
            "WARNING:tensorflow:From /usr/local/lib/python3.6/dist-packages/tensorflow_core/contrib/learn/python/learn/datasets/mnist.py:262: extract_images (from tensorflow.contrib.learn.python.learn.datasets.mnist) is deprecated and will be removed in a future version.\n",
            "Instructions for updating:\n",
            "Please use tf.data to implement this functionality.\n",
            "Extracting MNIST_data/train-images-idx3-ubyte.gz\n",
            "Successfully downloaded train-labels-idx1-ubyte.gz 28881 bytes.\n",
            "WARNING:tensorflow:From /usr/local/lib/python3.6/dist-packages/tensorflow_core/contrib/learn/python/learn/datasets/mnist.py:267: extract_labels (from tensorflow.contrib.learn.python.learn.datasets.mnist) is deprecated and will be removed in a future version.\n",
            "Instructions for updating:\n",
            "Please use tf.data to implement this functionality.\n",
            "Extracting MNIST_data/train-labels-idx1-ubyte.gz\n",
            "WARNING:tensorflow:From /usr/local/lib/python3.6/dist-packages/tensorflow_core/contrib/learn/python/learn/datasets/mnist.py:110: dense_to_one_hot (from tensorflow.contrib.learn.python.learn.datasets.mnist) is deprecated and will be removed in a future version.\n",
            "Instructions for updating:\n",
            "Please use tf.one_hot on tensors.\n",
            "Successfully downloaded t10k-images-idx3-ubyte.gz 1648877 bytes.\n",
            "Extracting MNIST_data/t10k-images-idx3-ubyte.gz\n",
            "Successfully downloaded t10k-labels-idx1-ubyte.gz 4542 bytes.\n",
            "Extracting MNIST_data/t10k-labels-idx1-ubyte.gz\n",
            "WARNING:tensorflow:From /usr/local/lib/python3.6/dist-packages/tensorflow_core/contrib/learn/python/learn/datasets/mnist.py:290: DataSet.__init__ (from tensorflow.contrib.learn.python.learn.datasets.mnist) is deprecated and will be removed in a future version.\n",
            "Instructions for updating:\n",
            "Please use alternatives such as official/mnist/dataset.py from tensorflow/models.\n"
          ],
          "name": "stdout"
        }
      ]
    },
    {
      "cell_type": "code",
      "metadata": {
        "id": "SIfwZuZJZjsL",
        "colab_type": "code",
        "colab": {}
      },
      "source": [
        "W1 = tf.Variable(tf.random_normal([784, 256])) ##random_module(784*256으로 평균값 0, 표준편차 1, 32비트, 난수로 반환)\n",
        "b1 = tf.Variable(tf.random_normal([256])) ## variable에 대한 마지막 참조가 범위에서 벗어나면 메모리 해제\n",
        "L1 = tf.nn.relu(tf.matmul(X,W1) + b1) ##숨겨진 층 // (이미지, 가중치) + 편향\n",
        "\n",
        "W2 = tf.Variable(tf.random_normal([256, 10]))\n",
        "b2 = tf.Variable(tf.random_normal([10]))\n",
        "hypothesis = tf.matmul(L1, W2) + b2 ## LiWi+LjWj+b 형식 ; 실수형 placeholder\n"
      ],
      "execution_count": 0,
      "outputs": []
    },
    {
      "cell_type": "code",
      "metadata": {
        "id": "0g_VZGm1Z1Qx",
        "colab_type": "code",
        "colab": {
          "base_uri": "https://localhost:8080/",
          "height": 158
        },
        "outputId": "814996db-8515-4e73-c69c-8e7cecb04cfb"
      },
      "source": [
        "## parameter\n",
        "learning_rate = 0.001 ##학습률\n",
        "training_epochs = 30  ##학습횟수\n",
        "batch_size = 100      ##100으로 나눔\n",
        "\n",
        "# 손실비용과 최적화 정의\n",
        "cost = tf.reduce_mean(tf.nn.softmax_cross_entropy_with_logits(\n",
        "    logits=hypothesis, labels=Y)) ## (Y 라벨-유효한 확률분포, hypothesis logit-일반적으로 선형출력, axis = -1로 설정)\n",
        "optimizer = tf.train.AdamOptimizer(learning_rate=learning_rate).minimize(cost)\n",
        "\n",
        "# 텐서플로우 초기화\n",
        "sess = tf.Session()\n",
        "sess.run(tf.global_variables_initializer())"
      ],
      "execution_count": 4,
      "outputs": [
        {
          "output_type": "stream",
          "text": [
            "WARNING:tensorflow:From <ipython-input-4-58a25e926c31>:7: softmax_cross_entropy_with_logits (from tensorflow.python.ops.nn_ops) is deprecated and will be removed in a future version.\n",
            "Instructions for updating:\n",
            "\n",
            "Future major versions of TensorFlow will allow gradients to flow\n",
            "into the labels input on backprop by default.\n",
            "\n",
            "See `tf.nn.softmax_cross_entropy_with_logits_v2`.\n",
            "\n"
          ],
          "name": "stdout"
        }
      ]
    },
    {
      "cell_type": "code",
      "metadata": {
        "id": "y0tcL3CYZ1cq",
        "colab_type": "code",
        "outputId": "82a24462-8c36-475b-e56e-7df2134652d5",
        "colab": {
          "base_uri": "https://localhost:8080/",
          "height": 562
        }
      },
      "source": [
        "# train\n",
        "for epoch in range(training_epochs):\n",
        "    avg_cost = 0\n",
        "    total_batch = int(mnist.train.num_examples / batch_size)\n",
        "\n",
        "    for i in range(total_batch):\n",
        "        batch_xs, batch_ys = mnist.train.next_batch(batch_size) ### train 데이터셋에서 무작위 샘플링한 100개의 데이터로 구성된 batch를 가져옴\n",
        "        feed_dict = {X: batch_xs, Y: batch_ys}\n",
        "        c, _ = sess.run([cost, optimizer], feed_dict=feed_dict) ## 분할해서 cost를 계속 누적\n",
        "        avg_cost += c / total_batch\n",
        "\n",
        "    print('Epoch:', '%03d' % (epoch + 1), 'cost =', '{:.5f}'.format(avg_cost))\n",
        "\n",
        "print(\"Finish!!\")"
      ],
      "execution_count": 5,
      "outputs": [
        {
          "output_type": "stream",
          "text": [
            "Epoch: 001 cost = 18.61891\n",
            "Epoch: 002 cost = 4.97533\n",
            "Epoch: 003 cost = 3.35498\n",
            "Epoch: 004 cost = 2.50160\n",
            "Epoch: 005 cost = 1.95164\n",
            "Epoch: 006 cost = 1.57058\n",
            "Epoch: 007 cost = 1.25710\n",
            "Epoch: 008 cost = 1.02405\n",
            "Epoch: 009 cost = 0.84100\n",
            "Epoch: 010 cost = 0.68199\n",
            "Epoch: 011 cost = 0.55739\n",
            "Epoch: 012 cost = 0.45905\n",
            "Epoch: 013 cost = 0.36994\n",
            "Epoch: 014 cost = 0.30061\n",
            "Epoch: 015 cost = 0.24831\n",
            "Epoch: 016 cost = 0.19787\n",
            "Epoch: 017 cost = 0.16715\n",
            "Epoch: 018 cost = 0.13572\n",
            "Epoch: 019 cost = 0.10690\n",
            "Epoch: 020 cost = 0.09185\n",
            "Epoch: 021 cost = 0.07361\n",
            "Epoch: 022 cost = 0.05809\n",
            "Epoch: 023 cost = 0.04848\n",
            "Epoch: 024 cost = 0.03892\n",
            "Epoch: 025 cost = 0.03863\n",
            "Epoch: 026 cost = 0.03385\n",
            "Epoch: 027 cost = 0.02864\n",
            "Epoch: 028 cost = 0.02812\n",
            "Epoch: 029 cost = 0.01945\n",
            "Epoch: 030 cost = 0.02519\n",
            "Finish!!\n"
          ],
          "name": "stdout"
        }
      ]
    },
    {
      "cell_type": "code",
      "metadata": {
        "id": "Q5bRbpHeav85",
        "colab_type": "code",
        "outputId": "e927ff87-7678-4c51-e284-89a4b2df0589",
        "colab": {
          "base_uri": "https://localhost:8080/",
          "height": 34
        }
      },
      "source": [
        "## 모델 테스트\n",
        "correct_prediction = tf.equal(tf.argmax(hypothesis, 1), tf.argmax(Y, 1))\n",
        "accuracy = tf.reduce_mean(tf.cast(correct_prediction, tf.float32))\n",
        "print('Accuracy:', sess.run(accuracy, feed_dict={\n",
        "      X: mnist.test.images, Y: mnist.test.labels}))"
      ],
      "execution_count": 6,
      "outputs": [
        {
          "output_type": "stream",
          "text": [
            "Accuracy: 0.9525\n"
          ],
          "name": "stdout"
        }
      ]
    }
  ]
}