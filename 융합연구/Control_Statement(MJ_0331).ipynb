{
 "cells": [
  {
   "cell_type": "markdown",
   "metadata": {},
   "source": [
    "# 1. 제어문\n",
    " \n",
    "\n",
    "학생이 아침마다 등교하는 것은 반복적인 일에 해당하고, 날짜에 따라 주말이나 공휴일은 학교를 가지 않는 것은 조건에 따라 이루어지는 일에 해당한다. 컴퓨터의 프로그램 역시 흐름에 따라 특정 조건에 따라 실행하거나 특정 부분을 반복적으로 실행하도록 이루어진다. 그것이 제어문이다. Python에서는 if문, for문, while문 등의 제어문이 있다."
   ]
  },
  {
   "cell_type": "markdown",
   "metadata": {},
   "source": [
    "# 2. if문\n"
   ]
  },
  {
   "cell_type": "markdown",
   "metadata": {},
   "source": [
    "### if문의 구조"
   ]
  },
  {
   "cell_type": "code",
   "execution_count": null,
   "metadata": {},
   "outputs": [],
   "source": [
    "if (조건식) : \n",
    "    실행문장..."
   ]
  },
  {
   "cell_type": "markdown",
   "metadata": {},
   "source": [
    "### 1) 단순 if문\n",
    "\n",
    "if문은 어떤 조건에 따라 코드를 다르게 수행하는 조건문이다. 다음과 같은 문장이 조건문의 예시다.\n",
    "\"키가 140cm 보다 크면 탑승 가능합니다. 키가 140cm 보다 작으면 탑승 불가합니다.\"\n",
    "흔히 놀이공원에서 많이 볼 수 있는 문장이다.\n",
    "\n",
    "Python에서는 위와 같은 문장을 if라는 단어로 조건문을 표현할 수 있다.\n",
    "if문을 이용해 앞에서 예로 든 문장을 Python으로 표현하면 다음과 같다."
   ]
  },
  {
   "cell_type": "code",
   "execution_count": 1,
   "metadata": {},
   "outputs": [
    {
     "name": "stdout",
     "output_type": "stream",
     "text": [
      "Available\n"
     ]
    }
   ],
   "source": [
    "height = 150 # 키\n",
    "if height > 140 :\n",
    "    print(\"Available\")\n",
    "else :\n",
    "    print(\"Unavailable\")"
   ]
  },
  {
   "cell_type": "markdown",
   "metadata": {},
   "source": [
    "첫 문장이 실행되면 height라는 변수가 150이라는 값을 가지게 된다.\n",
    "두 번째 문장이 실행될 때 if문의 조건에 해당하는 'height > 140'에 대해 참/거짓을 판단한다.\n",
    "height 변수는 140보다 크기 때문에 조건식은 참이 된다.\n",
    "if문의 조건식이 참이므로 'print(\"Available\")'이라는 문장이 실행되어 'Available'이 출력된다.\n",
    "\n",
    "\n",
    "참고로 C/C++과 같은 프로그래밍 언어에서는 수행되는 코드 블록을 { }로 표현하지만, Python에서는 들여쓰기를 통해 코드 블록을 표현한다."
   ]
  },
  {
   "cell_type": "markdown",
   "metadata": {},
   "source": [
    "### 2) elif가 포함된 if문\n",
    "단순 if문을 사용하면 if문 뒤의 조건식의 참/거짓에 따라 하나의 코드 블록을 실행하게 된다.\n",
    "그러나 실행할 경우가 2개 보다 많을 때는 elif를 통해 표현할 수 있다.\n",
    "\"학점이 4.3이라면 A+, 그렇지 않고 학점이 4.0이라면 A0, 그렇지 않고 학점이 3.7이라면 A-, 그렇지 않으면 A는 아니다.\"\n",
    "\n",
    "이 문장을 elif로 표현을 하면 다음과 같이 코드를 작성할 수 있다."
   ]
  },
  {
   "cell_type": "code",
   "execution_count": 2,
   "metadata": {},
   "outputs": [
    {
     "name": "stdout",
     "output_type": "stream",
     "text": [
      "A0\n"
     ]
    }
   ],
   "source": [
    "grade = 4.0 # 학점\n",
    "if grade == 4.3 :\n",
    "    print('A+')\n",
    "elif grade == 4.0 :\n",
    "    print('A0')\n",
    "elif grade == 3.7:\n",
    "    print('A-')\n",
    "else :\n",
    "    print(\"Not A\")"
   ]
  },
  {
   "cell_type": "markdown",
   "metadata": {},
   "source": [
    "위 코드 첫 문장에서 grade라는 변수가 4.0이라는 값을 가지게 된다.\n",
    "두 번째 문장에서 'grade == 4.3'에 대해 참/거짓을 판단한다.\n",
    "grade 변수는 4.3이 아니므로 조건식은 거짓이다.\n",
    "그러므로 아래 elif 조건식으로 이동해 ‘grade == 4.0’에 대한 참/거짓을 판별한다.\n",
    "이 조건식은 참이므로 'print(\"A0\")'라는 문장이 실행되어 'A0'이 출력된다."
   ]
  },
  {
   "cell_type": "markdown",
   "metadata": {},
   "source": [
    "### 3) 중첩 if문\n",
    "\n",
    "if문은 단순히 하나만 사용할 수 있는 것이 아니라 중첩해서 여러 개 사용할 수 있다.\n",
    "if문 뒤의 조건식의 참/거짓에 따라 참이 되면 다음 붙어있는 if문의 조건식을 판별할 수 있다는 것이다\n",
    "중첩의 제한은 없다."
   ]
  },
  {
   "cell_type": "code",
   "execution_count": 3,
   "metadata": {},
   "outputs": [
    {
     "name": "stdout",
     "output_type": "stream",
     "text": [
      "나쁨\n"
     ]
    }
   ],
   "source": [
    "dust = 110 # 미세먼지 지수\n",
    "if dust > 80:\n",
    "    if dust < 150:\n",
    "        print(\"나쁨\")\n",
    "    else :\n",
    "        print(\"매우나쁨\")\n",
    "elif dust < 30:\n",
    "        print(\"좋음\")\n",
    "else :\n",
    "    print(\"보통\")"
   ]
  },
  {
   "cell_type": "markdown",
   "metadata": {},
   "source": [
    "위 코드의 첫 문장에서 dust라는 변수가 110이라는 값을 가지게 된다.\n",
    "두 번째 문장이 실행될 때 'dust > 80'에 대해 참/거짓을 판단한다. dust변수는 80보다 크므로 조건식이 참을 만족한다.\n",
    "그러므로 다음 if문으로 이동해 ‘dust < 150’이라는 조건식으로 이동해 ‘dust < 150’에 대한 참/거짓을 판별한다.\n",
    "이 조건식도 참이므로 'print(\"나쁨\")'라는 문장이 실행된다. 그래서 '나쁨'이 출력된다."
   ]
  },
  {
   "cell_type": "markdown",
   "metadata": {},
   "source": [
    "# 3. while문"
   ]
  },
  {
   "cell_type": "markdown",
   "metadata": {},
   "source": [
    "### while문의 구조"
   ]
  },
  {
   "cell_type": "code",
   "execution_count": null,
   "metadata": {},
   "outputs": [],
   "source": [
    "while (조건문) : \n",
    "    실행문장..."
   ]
  },
  {
   "cell_type": "markdown",
   "metadata": {},
   "source": [
    "### 1) 단순 while문\n",
    "\n",
    "while문은 특정 조건을 만족하는 동안 작업을 수행하는 반복문이다.\n",
    "다음과 같이 1부터 10까지의 합을 구한 값을 화면에 출력하는 간단한 예시가 있다."
   ]
  },
  {
   "cell_type": "code",
   "execution_count": 4,
   "metadata": {},
   "outputs": [
    {
     "name": "stdout",
     "output_type": "stream",
     "text": [
      "55\n"
     ]
    }
   ],
   "source": [
    "# 1부터 10까지 합을 출력하는 함수\n",
    "num = 1\n",
    "hap = 0\n",
    "while num <= 10:\n",
    "    hap = hap + num\n",
    "    num = num + 1\n",
    "print(hap)"
   ]
  },
  {
   "cell_type": "markdown",
   "metadata": {},
   "source": [
    "먼저 num이라는 변수가 초기 값으로 1을, hap이라는 변수가 초기 값으로 0을 갖는다.\n",
    "while문의 조건문인 ‘num <= 10’이 있는데, num이 10보다 작거나 같으므로 해당 조건을 만족한다.\n",
    "조건문이 참이므로 while문의 문장을 순서대로 실행한다.\n",
    "즉, ‘hap = hap + num’이라는 문장이 실행되고 'num = num + 1'이라는 문장이 실행된다.\n",
    "그러면 num이 가지는 값은 0에서 1로 바뀌게 된다.\n",
    "\n",
    "while문에 속한 모든 문장이 수행되면, 다시 while문의 조건문으로 이동해서 조건식을 다시 판단한다.\n",
    "이번에도 num이라는 변수는 10보다는 작거나 같은 값이므로 while문에 있는 문장을 수행하게 된다.\n",
    "이렇게 num라는 변수의 값이 10일 때까지 while 문 내부의 문장을 순서대로 수행한다.\n",
    "num이 11이 되면 더 이상 조건식을 만족하지 않기 때문에 while문을 실행하지 않고 빠져나오게 된다.\n",
    "마지막으로 while문 내에서 구해진 값 hap이 출력되어 45라는 값을 가진 것을 확인할 수 있다."
   ]
  },
  {
   "cell_type": "markdown",
   "metadata": {},
   "source": [
    "###  2) 무한 루프\n",
    "\n",
    "while문으로 어떤 작업을 수행하다가 특정 조건을 만족할 때 반복문 자체를 빠져나와야 할 때가 있다.\n",
    "예를 들어, 자판기의 제품이 하나씩 팔리다가 모두 팔리게 되면 판매를 중단해야 하는 경우가 이에 해당한다.\n",
    "\n",
    "먼저 프로그램을 계속해서 실행하게 하려면 while문의 조건이 항상 참이 되도록 만들어 계속 실행하게 하면 된다.\n",
    "그러면 while문의 문장을 실행하고 다시 조건을 판단할 때 계속 참이 되므로 while문 내의 코드가 무한히 실행되는 것이다.\n",
    "\n",
    "이처럼 무한히 실행되는 반복문을 ‘무한 루프’라고 한다. 다음 코드처럼 간단히 작성할 수 있다."
   ]
  },
  {
   "cell_type": "code",
   "execution_count": null,
   "metadata": {
    "scrolled": false
   },
   "outputs": [],
   "source": [
    "'''\n",
    "while True:\n",
    "    print(1)\n",
    "'''"
   ]
  },
  {
   "cell_type": "markdown",
   "metadata": {},
   "source": [
    "이 코드를 실행하면 계속해서 '1‘이 출력된다.\n",
    "무한 loop를 방지하기 위해 주석처리를 했다."
   ]
  },
  {
   "cell_type": "markdown",
   "metadata": {},
   "source": [
    "### 3) break가 포함된 while문\n",
    "\n",
    "Python의 반복문(while문 또는 for문)이 무한 루프 상태에 빠지지 않기 위해 break를 사용하면 된다.\n",
    "위에서 예시로 제시한 판매와 관한 것을 코드로 작성해서 break를 넣게 되면 break를 만나는 순간 해당 위치에서 반복문을 빠져나오게 된다."
   ]
  },
  {
   "cell_type": "code",
   "execution_count": 5,
   "metadata": {},
   "outputs": [
    {
     "name": "stdout",
     "output_type": "stream",
     "text": [
      "3 left\n",
      "2 left\n",
      "1 left\n",
      "sold out\n"
     ]
    }
   ],
   "source": [
    "stocks = 3\n",
    "while True:\n",
    "    if stocks > 0:\n",
    "        print(stocks, \"left\")\n",
    "        stocks = stocks - 1\n",
    "    else :\n",
    "        print(\"sold out\")\n",
    "        break"
   ]
  },
  {
   "cell_type": "markdown",
   "metadata": {},
   "source": [
    "먼저 stocks 변수가 3을 갖고, while 문의 조건식을 판단한다.\n",
    "조건식은 True이기 때문에 언제든 참으로 판단한다.\n",
    "만약 while문 내에 break가 없다면 무한 루프에 빠지게 된다.\n",
    "참고로 조건식에 0이 아닌 다른 숫자가 있으면 모두 참으로 판단한다.\n",
    "\n",
    "일단 while문의 조건이 참이므로 while문의 코드가 실행된다.\n",
    "따라서 먼저 ‘stocks > 0’이라는 조건식의 판별이 이루어진다.\n",
    "이는 참이므로 화면에 '3 left'라고 출력된다.\n",
    "그 다음 stocks 변수는 3에서 1을 뺀 2를 갖게 된다.\n",
    "이렇게 stocks가 0보다 큰, 즉 1일 때 까지 if문의 참에 대한 내용을 수행한다.\n",
    "stocks가 0이 되면 ‘sold out’을 출력하고 break를 만나게 된다.\n",
    "\n",
    "위에서 설명한 것처럼 break는 while문을 빠져나가게 하므로 더 이상 코드가 실행되지 않는다."
   ]
  },
  {
   "cell_type": "markdown",
   "metadata": {},
   "source": [
    "### 4) continue가 포함된 while문\n",
    "\n",
    "while문과 같은 반복문에서 break를 사용하면 반복문 전체를 빠져나오게 된다. 그런데 반복문 전체가 아니라 해당 조건만 건너뛰고 싶을 때가 있다. 홀수는 세지 않고 짝수만 세는 경우와 같은 것을 의미한다. 이럴 때는 continue를 사용하면 된다."
   ]
  },
  {
   "cell_type": "code",
   "execution_count": 6,
   "metadata": {},
   "outputs": [
    {
     "name": "stdout",
     "output_type": "stream",
     "text": [
      "2\n",
      "4\n",
      "6\n",
      "8\n",
      "10\n"
     ]
    }
   ],
   "source": [
    "odd = 1\n",
    "while odd < 11:\n",
    "    odd = odd + 1\n",
    "    if odd % 2 != 0 :\n",
    "        continue\n",
    "    print(odd)"
   ]
  },
  {
   "cell_type": "markdown",
   "metadata": {},
   "source": [
    "우선 odd라는 변수는 1을 갖는다.\n",
    "while문의 ‘odd < 11’ 조건을 만족하니 odd 값이 1 증가한다.\n",
    "그리고 ‘odd % 2 ! = 0’의 참/거짓을 판별한다.\n",
    "이 문장은 ‘odd의 나머지가 0이 아니다’를 의미한다.\n",
    "즉, ‘odd는 홀수다’라는 것이다. 홀수가 아니므로 if문을 실행하지 않고 ‘print(odd)’가 실행되어 2가 출력된다.\n",
    "\n",
    "그 다음 다시 while문 처음으로 이동해 odd에 1을 증가해 odd는 3이 된다.\n",
    "이번에 if문은 참을 만족하므로 continue라는 것을 만나게 된다.\n",
    "그러면 그 이후의 문장인 ‘print(odd)’를 실행하지 않고 while문을 빠져나가는 것이 아니라 다시 while문 처음으로 이동하게 된다.\n",
    "이런 방식으로 odd가 11이 작을 때 까지 while문을 실행한다.\n",
    "\n",
    "그러면 결과로 11보다 작은 짝수가 모두 출력된 것을 확인할 수 있다."
   ]
  },
  {
   "cell_type": "markdown",
   "metadata": {},
   "source": [
    "# 4. for문"
   ]
  },
  {
   "cell_type": "markdown",
   "metadata": {},
   "source": [
    "### for문의 구조"
   ]
  },
  {
   "cell_type": "code",
   "execution_count": null,
   "metadata": {},
   "outputs": [],
   "source": [
    "for (변수) in (리스트나 튜플 또는 문자열):\n",
    "    실행문장..."
   ]
  },
  {
   "cell_type": "markdown",
   "metadata": {},
   "source": [
    "### 1) 단순 for문\n",
    "\n",
    "Python에서는 while문 말고도 for문도 반복문으로 사용할 수 있다.\n",
    "while문은 특정 조건을 만족하면 수행한다.\n",
    "그런데 for문은 반복 횟수가 미리 정해진 것에서 while문과 차이를 가진다.\n",
    "while문에서 사용한 것처럼 1부터 10까지의 합을 출력하는 예시다."
   ]
  },
  {
   "cell_type": "code",
   "execution_count": 7,
   "metadata": {},
   "outputs": [
    {
     "name": "stdout",
     "output_type": "stream",
     "text": [
      "55\n"
     ]
    }
   ],
   "source": [
    "# 1부터 10까지 합을 출력하는 함수\n",
    "hap = 0\n",
    "for num in range(11):\n",
    "    hap = hap + num\n",
    "print(hap)"
   ]
  },
  {
   "cell_type": "markdown",
   "metadata": {},
   "source": [
    "range를 이용하면 정수 범위를 간단히 표현할 수 있다.\n",
    "range(11)은 0부터 10까지의 정수 범위를 의미한다.\n",
    "num이라는 변수가 0부터 10까지의 값을 가지면서 hap에 num을 더하게 된다.\n",
    "while문과 같이 결과는 동일하게 출력된다.\n",
    "위와 같이 프로그래밍을 하면서 for문과 while문의 결과가 같을 경우 둘 중 사용하기 편한 것을 사용하면 된다."
   ]
  },
  {
   "cell_type": "markdown",
   "metadata": {},
   "source": [
    "### 2) 중첩 for문\n",
    "\n",
    "for문 역시 중첩해서 사용할 수 있고, 중첩의 제한은 없다.\n",
    "중첩 for문의 대표적인 예시가 구구단 출력이다.\n",
    "다음은 range를 이용해서 구구단을 출력한 것이다."
   ]
  },
  {
   "cell_type": "code",
   "execution_count": 8,
   "metadata": {},
   "outputs": [
    {
     "name": "stdout",
     "output_type": "stream",
     "text": [
      "2  *  1  =  2\n",
      "2  *  2  =  4\n",
      "2  *  3  =  6\n",
      "2  *  4  =  8\n",
      "2  *  5  =  10\n",
      "2  *  6  =  12\n",
      "2  *  7  =  14\n",
      "2  *  8  =  16\n",
      "2  *  9  =  18\n",
      "3  *  1  =  3\n",
      "3  *  2  =  6\n",
      "3  *  3  =  9\n",
      "3  *  4  =  12\n",
      "3  *  5  =  15\n",
      "3  *  6  =  18\n",
      "3  *  7  =  21\n",
      "3  *  8  =  24\n",
      "3  *  9  =  27\n",
      "4  *  1  =  4\n",
      "4  *  2  =  8\n",
      "4  *  3  =  12\n",
      "4  *  4  =  16\n",
      "4  *  5  =  20\n",
      "4  *  6  =  24\n",
      "4  *  7  =  28\n",
      "4  *  8  =  32\n",
      "4  *  9  =  36\n",
      "5  *  1  =  5\n",
      "5  *  2  =  10\n",
      "5  *  3  =  15\n",
      "5  *  4  =  20\n",
      "5  *  5  =  25\n",
      "5  *  6  =  30\n",
      "5  *  7  =  35\n",
      "5  *  8  =  40\n",
      "5  *  9  =  45\n",
      "6  *  1  =  6\n",
      "6  *  2  =  12\n",
      "6  *  3  =  18\n",
      "6  *  4  =  24\n",
      "6  *  5  =  30\n",
      "6  *  6  =  36\n",
      "6  *  7  =  42\n",
      "6  *  8  =  48\n",
      "6  *  9  =  54\n",
      "7  *  1  =  7\n",
      "7  *  2  =  14\n",
      "7  *  3  =  21\n",
      "7  *  4  =  28\n",
      "7  *  5  =  35\n",
      "7  *  6  =  42\n",
      "7  *  7  =  49\n",
      "7  *  8  =  56\n",
      "7  *  9  =  63\n",
      "8  *  1  =  8\n",
      "8  *  2  =  16\n",
      "8  *  3  =  24\n",
      "8  *  4  =  32\n",
      "8  *  5  =  40\n",
      "8  *  6  =  48\n",
      "8  *  7  =  56\n",
      "8  *  8  =  64\n",
      "8  *  9  =  72\n",
      "9  *  1  =  9\n",
      "9  *  2  =  18\n",
      "9  *  3  =  27\n",
      "9  *  4  =  36\n",
      "9  *  5  =  45\n",
      "9  *  6  =  54\n",
      "9  *  7  =  63\n",
      "9  *  8  =  72\n",
      "9  *  9  =  81\n"
     ]
    }
   ],
   "source": [
    "x = range(2,10) # 2부터 9까지\n",
    "y = range(1,10) # 1부터 9까지\n",
    "for i in x:\n",
    "    for j in y:\n",
    "        print(i, ' * ', j,' = ', i*j)"
   ]
  },
  {
   "cell_type": "markdown",
   "metadata": {},
   "source": [
    "우선 변수 x는 2부터 9까지, 변수 y는 1부터 9까지를 가진다.\n",
    "x는 곱하는 수, y는 곱해지는 수라는 의미다.\n",
    "for문이 실행되면 i는 2부터 9까지, j는 1부터 9까지 순차적으로 가지게 된다.\n",
    "2단부터 9단까지 I와 j가 곱해진 결과가 한 줄씩 출력된다.\n",
    "\n",
    "위처럼 range의 시작과 끝을 정하려면 range(시작 숫자, 끝 숫자)로 하면 되고 끝 숫자는 포함되지 않는다."
   ]
  }
 ],
 "metadata": {
  "kernelspec": {
   "display_name": "Python 3",
   "language": "python",
   "name": "python3"
  },
  "language_info": {
   "codemirror_mode": {
    "name": "ipython",
    "version": 3
   },
   "file_extension": ".py",
   "mimetype": "text/x-python",
   "name": "python",
   "nbconvert_exporter": "python",
   "pygments_lexer": "ipython3",
   "version": "3.6.10"
  }
 },
 "nbformat": 4,
 "nbformat_minor": 4
}
